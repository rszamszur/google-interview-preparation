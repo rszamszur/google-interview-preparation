{
 "cells": [
  {
   "cell_type": "markdown",
   "id": "f28f01d5-cced-4a93-a89e-76108fefd7fa",
   "metadata": {},
   "source": [
    "# Big-O Notations Examples\n",
    "\n",
    "## Test values"
   ]
  },
  {
   "cell_type": "code",
   "execution_count": 71,
   "id": "de923e9b-892c-473f-8ed6-9181e6a613e5",
   "metadata": {},
   "outputs": [],
   "source": [
    "micro_input = [i for i in range(10)]\n",
    "small_input = [i for i in range(100)]\n",
    "medium_input = [i for i in range(1000)]\n",
    "big_input = [i for i in range(10000)]\n"
   ]
  },
  {
   "cell_type": "markdown",
   "id": "f3018770-c5f6-49b8-a45c-e61a34c903ce",
   "metadata": {},
   "source": [
    "## $O(1)$ Constant\n",
    "\n",
    "Constant complexity describes an algorithm that will always execute in the same time (or space) regardless of the size of the input data. This can be as simple as accessing a specific index within an array:"
   ]
  },
  {
   "cell_type": "code",
   "execution_count": 73,
   "id": "d0dba95d-52e0-4d02-898c-f773e776c0f6",
   "metadata": {},
   "outputs": [],
   "source": [
    "def constant_example(array):\n",
    "    \"\"\"Returns first item in array.\"\"\"\n",
    "    return array[0]"
   ]
  },
  {
   "cell_type": "code",
   "execution_count": 74,
   "id": "f2db92a6-3906-48b4-a422-a283a3e64a06",
   "metadata": {},
   "outputs": [
    {
     "name": "stdout",
     "output_type": "stream",
     "text": [
      "78.6 ns ± 14.4 ns per loop (mean ± std. dev. of 7 runs, 10000000 loops each)\n"
     ]
    }
   ],
   "source": [
    "%timeit constant_example(micro_input)"
   ]
  },
  {
   "cell_type": "code",
   "execution_count": 75,
   "id": "ba307315-14fd-4e30-b8a7-a78cdc3c3e8b",
   "metadata": {},
   "outputs": [
    {
     "name": "stdout",
     "output_type": "stream",
     "text": [
      "84.5 ns ± 2.07 ns per loop (mean ± std. dev. of 7 runs, 10000000 loops each)\n"
     ]
    }
   ],
   "source": [
    "%timeit constant_example(small_input)"
   ]
  },
  {
   "cell_type": "code",
   "execution_count": 78,
   "id": "ec448de5-c1bb-40bf-97ac-72372126dc19",
   "metadata": {},
   "outputs": [
    {
     "name": "stdout",
     "output_type": "stream",
     "text": [
      "115 ns ± 42.1 ns per loop (mean ± std. dev. of 7 runs, 10000000 loops each)\n"
     ]
    }
   ],
   "source": [
    "%timeit constant_example(medium_input)"
   ]
  },
  {
   "cell_type": "code",
   "execution_count": 79,
   "id": "8f1fba03-ea93-440f-844f-02f430be6c1a",
   "metadata": {},
   "outputs": [
    {
     "name": "stdout",
     "output_type": "stream",
     "text": [
      "98.8 ns ± 38.5 ns per loop (mean ± std. dev. of 7 runs, 10000000 loops each)\n"
     ]
    }
   ],
   "source": [
    "%timeit constant_example(big_input)"
   ]
  },
  {
   "cell_type": "markdown",
   "id": "5401e3c1-1fe4-44e8-a5bf-027e57ed4d9a",
   "metadata": {
    "tags": []
   },
   "source": [
    "It doesn't matter whether input array has one or 10 000 elements. Looking up location of the array would take the same amount of time.\n",
    "\n",
    "In much the same way, if I had a deck of cards, and I asked you to remove the first any card at random, you could simply grab a card from the deck without having to search through the entire deck <sup>[[1]](#references-and-notes)</sup>.\n",
    "\n",
    "## $O(n)$ Linear\n",
    "\n",
    "Linear complexity describes an algorithm, which time to complete will grow in direct proportion to the size of input data."
   ]
  },
  {
   "cell_type": "code",
   "execution_count": 80,
   "id": "61703496-b18f-4fcc-a71b-2733901d687e",
   "metadata": {},
   "outputs": [],
   "source": [
    "def linear_example(array):\n",
    "    \"\"\"Iterate through all items in array.\"\"\"\n",
    "    for item in array:\n",
    "        pass"
   ]
  },
  {
   "cell_type": "code",
   "execution_count": 81,
   "id": "fa993bee-316d-458c-b1e0-c71e0618f809",
   "metadata": {},
   "outputs": [
    {
     "name": "stdout",
     "output_type": "stream",
     "text": [
      "310 ns ± 20.9 ns per loop (mean ± std. dev. of 7 runs, 1000000 loops each)\n"
     ]
    }
   ],
   "source": [
    "%timeit linear_example(micro_input)"
   ]
  },
  {
   "cell_type": "code",
   "execution_count": 82,
   "id": "52f2b84a-8e8a-4dfb-9c67-a4590f6770c0",
   "metadata": {},
   "outputs": [
    {
     "name": "stdout",
     "output_type": "stream",
     "text": [
      "2.41 µs ± 607 ns per loop (mean ± std. dev. of 7 runs, 100000 loops each)\n"
     ]
    }
   ],
   "source": [
    "%timeit linear_example(small_input)"
   ]
  },
  {
   "cell_type": "code",
   "execution_count": 83,
   "id": "941d8489-6ef8-4e22-b77e-494e77246386",
   "metadata": {},
   "outputs": [
    {
     "name": "stdout",
     "output_type": "stream",
     "text": [
      "9.62 µs ± 4.11 µs per loop (mean ± std. dev. of 7 runs, 100000 loops each)\n"
     ]
    }
   ],
   "source": [
    "%timeit linear_example(medium_input)"
   ]
  },
  {
   "cell_type": "code",
   "execution_count": 84,
   "id": "1ec5afe4-ac21-44bc-91bb-c5351425caea",
   "metadata": {},
   "outputs": [
    {
     "name": "stdout",
     "output_type": "stream",
     "text": [
      "129 µs ± 3.8 µs per loop (mean ± std. dev. of 7 runs, 10000 loops each)\n"
     ]
    }
   ],
   "source": [
    "%timeit linear_example(big_input)"
   ]
  },
  {
   "cell_type": "markdown",
   "id": "f7251c47-9bb9-49d2-bc7e-872daa548fc5",
   "metadata": {
    "tags": []
   },
   "source": [
    "In this example, the function is iterating through every item in an array. Therefore, the larger the input, the greater the amount of time it takes to execute.\n",
    "\n",
    "Now, back to deck of cards analogy. If I had a deck of cards and I wanted you to select a specific card (let’s say the 10❤s). You would have to look through every card until you found that card. Sure, there’s a possibility that it would be the first card in the deck, but that’s highly unlikely. Now think about if the deck of cards were filled with hundreds of other cards non-10❤ cards. Your search is directly related to how large the deck of cards is.\n",
    "\n",
    "## $O(\\log(n))$ Logarithmic\n",
    "\n",
    "Logarithmic complexity describes an algorithm, that runs in proportionally to the logarithm of the input size. A perfect example of that would be a Binary Search algorithm:"
   ]
  },
  {
   "cell_type": "code",
   "execution_count": 85,
   "id": "e3d4c794-c564-454d-8113-751567bdd2e5",
   "metadata": {},
   "outputs": [],
   "source": [
    "def logarithmic_example(array):\n",
    "    \"\"\"Binary search algorithm.\"\"\"\n",
    "    # I've hardcoded query just for sake of example having one input data.\n",
    "    query = 0\n",
    "    lo, hi = 0, len(array) - 1\n",
    "    \n",
    "    while lo <= hi:\n",
    "        mid = (hi + lo) // 2\n",
    "        val = array[mid]\n",
    "        if val == query:\n",
    "            return mid\n",
    "        elif val < query:\n",
    "            lo = mid + 1\n",
    "        else:\n",
    "            hi = mid - 1\n",
    "            \n",
    "    return None"
   ]
  },
  {
   "cell_type": "code",
   "execution_count": 86,
   "id": "e5bdc19e-7d6e-4ed8-bd75-6c8f7e805c9c",
   "metadata": {},
   "outputs": [
    {
     "name": "stdout",
     "output_type": "stream",
     "text": [
      "822 ns ± 177 ns per loop (mean ± std. dev. of 7 runs, 1000000 loops each)\n"
     ]
    }
   ],
   "source": [
    "%timeit logarithmic_example(micro_input)"
   ]
  },
  {
   "cell_type": "code",
   "execution_count": 87,
   "id": "2e664998-fd3c-4025-8646-bd264ab61f49",
   "metadata": {},
   "outputs": [
    {
     "name": "stdout",
     "output_type": "stream",
     "text": [
      "1.51 µs ± 496 ns per loop (mean ± std. dev. of 7 runs, 1000000 loops each)\n"
     ]
    }
   ],
   "source": [
    "%timeit logarithmic_example(small_input)"
   ]
  },
  {
   "cell_type": "code",
   "execution_count": 88,
   "id": "f6089310-2106-4275-98d7-a4dd7db4c586",
   "metadata": {},
   "outputs": [
    {
     "name": "stdout",
     "output_type": "stream",
     "text": [
      "2.29 µs ± 71.9 ns per loop (mean ± std. dev. of 7 runs, 1000000 loops each)\n"
     ]
    }
   ],
   "source": [
    "%timeit logarithmic_example(medium_input)"
   ]
  },
  {
   "cell_type": "code",
   "execution_count": 89,
   "id": "4ebb5ea7-25dd-423c-bd43-5c7ecd44c964",
   "metadata": {},
   "outputs": [
    {
     "name": "stdout",
     "output_type": "stream",
     "text": [
      "3.51 µs ± 662 ns per loop (mean ± std. dev. of 7 runs, 1000000 loops each)\n"
     ]
    }
   ],
   "source": [
    "%timeit logarithmic_example(big_input)"
   ]
  },
  {
   "cell_type": "markdown",
   "id": "80fdf680-c13e-465b-af75-382459b045c0",
   "metadata": {
    "tags": []
   },
   "source": [
    "Binary search begins by comparing an element in the middle of the array with the target value (query). If the target value matches the element, its position in the array is returned. If the target value is less than the element, the search continues in the lower half of the array. If the target value is greater than the element, the search continues in the upper half of the array. By doing this, the algorithm reduces the amount of data by half with each itaration.\n",
    "\n",
    "NOTE! Binary search works on sorted arrays.\n",
    "\n",
    "Using deck of cards analogy, let’s say our cards are ordered from increasing to decreasing order, with the deck split in half, one pile containing the clubs and spades, the other containing the hearts and diamond cards. Now, if I asked you to pull out the 10❤s, you could safely conclude that the card should be in the second pile, since that’s where the diamonds and hearts cards are. Furthermore, you know that the card should only be with the hearts, so you split the deck to only search through the heart cards. Since you’ll be searching for the 10❤s, you can safely assume that the bottom half of the deck is irrelevant (since they deck is already sorted). You can continue to split the remaining cards until you eventually find the 10❤s. You didn’t have to search through every card to find it, but it also wasn’t as easy as simply grabbing a random card. \n",
    "\n",
    "## $O(n^{2})$ Quadratic\n",
    "\n",
    "Quadratic complexity represents an algorithm whose performance is directly proportional to the squared size of the input data."
   ]
  },
  {
   "cell_type": "code",
   "execution_count": 90,
   "id": "0686b6f7-6075-4ddf-8d07-7b09d26edd65",
   "metadata": {},
   "outputs": [],
   "source": [
    "def quadratic_example(array):\n",
    "    \"\"\"Nested iteration through all items in array.\"\"\"\n",
    "    for item in array:\n",
    "        for item in array:\n",
    "            pass"
   ]
  },
  {
   "cell_type": "code",
   "execution_count": 91,
   "id": "13325b43-4fe9-4eec-8a04-a6fcff9fe92e",
   "metadata": {},
   "outputs": [
    {
     "name": "stdout",
     "output_type": "stream",
     "text": [
      "2.01 µs ± 472 ns per loop (mean ± std. dev. of 7 runs, 1000000 loops each)\n"
     ]
    }
   ],
   "source": [
    "%timeit quadratic_example(micro_input)"
   ]
  },
  {
   "cell_type": "code",
   "execution_count": 92,
   "id": "7943ec2f-7960-4933-8b2a-b37afabc8daf",
   "metadata": {},
   "outputs": [
    {
     "name": "stdout",
     "output_type": "stream",
     "text": [
      "151 µs ± 48.4 µs per loop (mean ± std. dev. of 7 runs, 10000 loops each)\n"
     ]
    }
   ],
   "source": [
    "%timeit quadratic_example(small_input)"
   ]
  },
  {
   "cell_type": "code",
   "execution_count": 93,
   "id": "31a24dc9-f822-4bbe-9c54-828a6d12ad0c",
   "metadata": {},
   "outputs": [
    {
     "name": "stdout",
     "output_type": "stream",
     "text": [
      "12.9 ms ± 4.13 ms per loop (mean ± std. dev. of 7 runs, 100 loops each)\n"
     ]
    }
   ],
   "source": [
    "%timeit quadratic_example(medium_input)"
   ]
  },
  {
   "cell_type": "code",
   "execution_count": 94,
   "id": "fb3ac3b5-82c9-4d63-bc0e-7235c368e616",
   "metadata": {},
   "outputs": [
    {
     "name": "stdout",
     "output_type": "stream",
     "text": [
      "1.29 s ± 305 ms per loop (mean ± std. dev. of 7 runs, 1 loop each)\n"
     ]
    }
   ],
   "source": [
    "%timeit quadratic_example(big_input)"
   ]
  },
  {
   "cell_type": "markdown",
   "id": "223f2d31-25b6-45a2-ae76-4dc7ba258eb2",
   "metadata": {},
   "source": [
    "In this example, the function is iterating through every item in an array, and for each item is doing exacly the same loop, producing a Quadratic Complexity.\n",
    "\n",
    "Let’s revisit deck of cards. Let’s say you picked the first card in the deck, and how to remove all the cards with that same number. You would have to search through the deck, removing the duplicates at every point. Once you were sure that all the duplicates were removed, you’d continue doing the same thing for second card, and third, and so on until you reached the end of the deck.\n",
    "\n",
    "## $O(n^{3})$ Cubic\n",
    "\n",
    "Cubic complexity represents an algorithm whose performance is directly proportional to the cubic size of the input data."
   ]
  },
  {
   "cell_type": "code",
   "execution_count": 95,
   "id": "323d13b5-d2d2-4d63-98e5-2f163ca2a960",
   "metadata": {},
   "outputs": [],
   "source": [
    "def cubic_example(array):\n",
    "    \"\"\"Double nested iteration through all items in array.\"\"\"\n",
    "    for item in array:\n",
    "        for item in array:\n",
    "            for item in array:\n",
    "                pass"
   ]
  },
  {
   "cell_type": "code",
   "execution_count": 96,
   "id": "3af6fd3d-ac7f-47fa-ae96-e159e1ab6a2f",
   "metadata": {},
   "outputs": [
    {
     "name": "stdout",
     "output_type": "stream",
     "text": [
      "20.7 µs ± 1.24 µs per loop (mean ± std. dev. of 7 runs, 10000 loops each)\n"
     ]
    }
   ],
   "source": [
    "%timeit cubic_example(micro_input)"
   ]
  },
  {
   "cell_type": "code",
   "execution_count": 97,
   "id": "8a23e90d-dc32-42bd-85f5-a203f551fc73",
   "metadata": {},
   "outputs": [
    {
     "name": "stdout",
     "output_type": "stream",
     "text": [
      "10.1 ms ± 3.55 ms per loop (mean ± std. dev. of 7 runs, 100 loops each)\n"
     ]
    }
   ],
   "source": [
    "%timeit cubic_example(small_input)"
   ]
  },
  {
   "cell_type": "code",
   "execution_count": 98,
   "id": "50bea31d-214b-4eb1-8de9-5884ff8ccd31",
   "metadata": {},
   "outputs": [
    {
     "name": "stdout",
     "output_type": "stream",
     "text": [
      "11.5 s ± 1.36 s per loop (mean ± std. dev. of 7 runs, 1 loop each)\n"
     ]
    }
   ],
   "source": [
    "%timeit cubic_example(medium_input)"
   ]
  },
  {
   "cell_type": "code",
   "execution_count": 99,
   "id": "429e0141-82c9-4916-82a1-239f87234b07",
   "metadata": {},
   "outputs": [],
   "source": [
    "# Note this would take too much time to execute, which is great argument why Big-O notation is so important.\n",
    "#%timeit cubic_example(big_input)"
   ]
  },
  {
   "cell_type": "markdown",
   "id": "7d5288d6-b117-442b-84fc-f18cbe65c89d",
   "metadata": {},
   "source": [
    "## $O(2^{n})$ Exponential\n",
    "\n",
    "Exponential complexity denotes an algorithm whose growth doubles with each additon to the input data."
   ]
  },
  {
   "cell_type": "code",
   "execution_count": 100,
   "id": "38e28c04-15a5-4231-9fdb-f41b28e45769",
   "metadata": {},
   "outputs": [],
   "source": [
    "def exponential_example(number):\n",
    "    if number <= 1:\n",
    "        return number\n",
    "    \n",
    "    return exponential_example(number - 2) + exponential_example(number - 1)  "
   ]
  },
  {
   "cell_type": "code",
   "execution_count": 101,
   "id": "9d95263a-f5fe-4be8-8c0b-ec58e936cd76",
   "metadata": {},
   "outputs": [
    {
     "name": "stdout",
     "output_type": "stream",
     "text": [
      "122 ns ± 17.8 ns per loop (mean ± std. dev. of 7 runs, 10000000 loops each)\n"
     ]
    }
   ],
   "source": [
    "%timeit exponential_example(1)"
   ]
  },
  {
   "cell_type": "code",
   "execution_count": 102,
   "id": "5fb954b9-20e9-494d-bd52-81512a39baf3",
   "metadata": {
    "tags": []
   },
   "outputs": [
    {
     "name": "stdout",
     "output_type": "stream",
     "text": [
      "25.1 µs ± 1.69 µs per loop (mean ± std. dev. of 7 runs, 10000 loops each)\n"
     ]
    }
   ],
   "source": [
    "%timeit exponential_example(10)"
   ]
  },
  {
   "cell_type": "code",
   "execution_count": 103,
   "id": "6cf78dda-0530-4ab3-bde1-3bfc01823aef",
   "metadata": {},
   "outputs": [
    {
     "name": "stdout",
     "output_type": "stream",
     "text": [
      "1.49 ms ± 72.6 µs per loop (mean ± std. dev. of 7 runs, 100 loops each)\n"
     ]
    }
   ],
   "source": [
    "%timeit exponential_example(20)"
   ]
  },
  {
   "cell_type": "code",
   "execution_count": 104,
   "id": "a709fead-65b4-4f66-bfb0-538c6416c57a",
   "metadata": {},
   "outputs": [
    {
     "name": "stdout",
     "output_type": "stream",
     "text": [
      "327 ms ± 68.7 ms per loop (mean ± std. dev. of 7 runs, 10 loops each)\n"
     ]
    }
   ],
   "source": [
    "%timeit exponential_example(30)"
   ]
  },
  {
   "cell_type": "markdown",
   "id": "071f8e8c-ada2-4de8-ac0d-f75a27cc5d27",
   "metadata": {
    "tags": []
   },
   "source": [
    "Fibonacci numbers are a great way to practice understanding of recursion. Although there is a way to make above fibonacci function have a shorter time complexity, for this case we will be using the double recursive method to show how it has an Exponential Time Complexity. In a few words, the recursive instantiation will pass over every number from the number to zero. It will do this twice (once for each recursive call) until it reaches the base case if statement. Since the number of recursive calls is directly related to the input number, it is easy to see how this look-up time will quickly grow out of hand.\n",
    "\n",
    "## References and notes\n",
    "\n",
    "1. [An Easy-To-Use Guide to Big-O Time Complexity](https://medium.com/@ariel.salem1989/an-easy-to-use-guide-to-big-o-time-complexity-5dcf4be8a444)"
   ]
  }
 ],
 "metadata": {
  "kernelspec": {
   "display_name": "Python 3",
   "language": "python",
   "name": "python3"
  },
  "language_info": {
   "codemirror_mode": {
    "name": "ipython",
    "version": 3
   },
   "file_extension": ".py",
   "mimetype": "text/x-python",
   "name": "python",
   "nbconvert_exporter": "python",
   "pygments_lexer": "ipython3",
   "version": "3.9.5"
  }
 },
 "nbformat": 4,
 "nbformat_minor": 5
}
