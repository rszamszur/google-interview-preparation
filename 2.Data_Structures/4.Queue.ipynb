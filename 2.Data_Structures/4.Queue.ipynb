{
 "cells": [
  {
   "cell_type": "markdown",
   "id": "d64ffed1-8e57-497f-a03b-2d822ec74efe",
   "metadata": {
    "tags": []
   },
   "source": [
    "# Queue\n",
    "\n",
    "## Definition\n",
    "\n",
    "Like stack, queue is a linear data structure that stores items in First In First Out (FIFO) manner. \n",
    "With a queue the least recently added item is removed first. A good example of queue is any queue of consumers for a resource where the consumer that came first is served first.\n",
    "\n",
    "![queue](http://www.atnyla.com/library/images-tutorials/queue-in-data-structure-Slide1.PNG)\n",
    "\n",
    "## Time complexity\n",
    "\n",
    "Each queue operation is O(1): Enqueue, Dequeue, Empty.\n",
    "\n",
    "## Applications of queues\n",
    "\n",
    "* Serving requests on a single shared resource, like a printer, CPU task scheduling etc.\n",
    "* In real life scenario, Call Center phone systems use Queues to hold people calling them in an order, until a service representative is free.\n",
    "* Handling of interrupts in real-time systems. The interrupts are handled in the same order as they arrive. First come first served.\n",
    "* Execution of Threads\n",
    "* Job Scheduling\n",
    "* Event queuing\n",
    "* Message Queuing\n",
    "\n",
    "## Implementation\n",
    "\n",
    "### Python\n"
   ]
  },
  {
   "cell_type": "code",
   "execution_count": 1,
   "id": "09c9f5e0-42a6-44a4-894c-178e266caa42",
   "metadata": {},
   "outputs": [],
   "source": [
    "import os\n",
    "import sys\n",
    "module_path = os.path.abspath(os.path.join('../src'))\n",
    "if module_path not in sys.path:\n",
    "    sys.path.append(module_path)"
   ]
  },
  {
   "cell_type": "markdown",
   "id": "e1f68d99-35f3-4efd-b4f9-0dbe8ff3a6b7",
   "metadata": {},
   "source": [
    "#### Queue using array\n",
    "\n",
    "1. [Code](https://github.com/rszamszur/google-interview-preparation/blob/master/src/dsa/queue/queue_array.py)\n",
    "2. [Visualization](https://pythontutor.com/visualize.html#code=%23!%20/usr/bin/env%20python%0A%23%20In%20order%20to%20have%20O%281%29%20time%20complexity%20of%20all%20methods%20we%20need%20to%20use%0A%23%20collections.deque%20class%0A%23%0A%23%20NOTE!%20Although%20Python%20lists%20are%20implemented%20with%20standard%20%22arrays%22%20under%20the%0A%23%20hood,%20its%20time%20complexity%20is%20the%20same%20as%20for%20standard%20array.%20The%20largest%0A%23%20costs%20come%20from%20growing%20beyond%20the%20current%20allocation%20size%0A%23%20%28because%20everything%20must%20move%29,%20or%20from%20inserting%20or%20deleting%20somewhere%20near%0A%23%20the%20beginning%20%28because%20everything%20after%20that%20must%20move%29.%20If%20you%20need%20to%0A%23%20add/remove%20at%20both%20ends,%20consider%20using%20a%20collections.deque%20instead.%0A%23%20Wiki%3A%20https%3A//wiki.python.org/moin/TimeComplexity%0Afrom%20collections%20import%20deque%0A%0A%0Aclass%20ArrayQueue%28object%29%3A%0A%20%20%20%20%22%22%22Stack%20implementation%20based%20on%20collections.deque.%22%22%22%0A%0A%20%20%20%20def%20__init__%28self,%20size%3A%20int%29%3A%0A%20%20%20%20%20%20%20%20%22%22%22Initialize%20ArrayQueue%20class%20object%20instance.%22%22%22%0A%20%20%20%20%20%20%20%20self._queue%20%3D%20deque%28maxlen%3Dsize%29%0A%20%20%20%20%20%20%20%20self._size%20%3D%20size%0A%0A%20%20%20%20def%20__str__%28self%29%3A%0A%20%20%20%20%20%20%20%20%22%22%22ArrayQueue%20class%20__str__%20method.%20Complexity%3A%20O%28n%29%22%22%22%0A%20%20%20%20%20%20%20%20queue%20%3D%20%22%22%0A%0A%20%20%20%20%20%20%20%20for%20item%20in%20self._queue%3A%0A%20%20%20%20%20%20%20%20%20%20%20%20queue%20%2B%3D%20str%28item%29%0A%20%20%20%20%20%20%20%20%20%20%20%20queue%20%2B%3D%20%22%5Cn%22%0A%0A%20%20%20%20%20%20%20%20queue.strip%28%29%0A%20%20%20%20%20%20%20%20return%20%22Newest%20-%3E%20%7Bqueue%7D%20%3C-%20Oldest%22.format%28queue%3Dqueue%29%0A%0A%20%20%20%20def%20__repr__%28self%29%3A%0A%20%20%20%20%20%20%20%20%22%22%22ArrayQueue%20class%20__repr__%20method.%22%22%22%0A%20%20%20%20%20%20%20%20return%20%22ArrayQueue%28%7Bsize%7D%29%22.format%28size%3Dself._size%29%0A%0A%20%20%20%20def%20empty%28self%29%3A%0A%20%20%20%20%20%20%20%20%22%22%22Return%20if%20the%20queue%20is%20empty.%20Complexity%3A%20O%281%29%22%22%22%0A%20%20%20%20%20%20%20%20return%20len%28self._queue%29%20%3D%3D%200%0A%0A%20%20%20%20def%20enqueue%28self,%20value%29%3A%0A%20%20%20%20%20%20%20%20%22%22%22Add%20an%20item%20to%20the%20queue.%20Complexity%3A%20O%281%29%22%22%22%0A%20%20%20%20%20%20%20%20if%20len%28self._queue%29%20%3D%3D%20self._size%3A%0A%20%20%20%20%20%20%20%20%20%20%20%20raise%20IndexError%28%22queue%20overflow%22%29%0A%0A%20%20%20%20%20%20%20%20self._queue.appendleft%28value%29%0A%0A%20%20%20%20def%20dequeue%28self%29%3A%0A%20%20%20%20%20%20%20%20%22%22%22Removes%20an%20item%20from%20the%20queue.%20Complexity%3A%20O%281%29%22%22%22%0A%20%20%20%20%20%20%20%20return%20self._queue.pop%28%29%0A%0A%0Aqueue%20%3D%20ArrayQueue%283%29%0Aqueue.empty%28%29%0Atry%3A%0A%20%20%20%20queue.dequeue%28%29%0Aexcept%20IndexError%3A%0A%20%20%20%20pass%0Aqueue.enqueue%281%29%0Aqueue.enqueue%282%29%0Aqueue.enqueue%283%29%0Aqueue.dequeue%28%29%0Aqueue.dequeue%28%29%0Aqueue.dequeue%28%29%0Aqueue.empty%28%29&cumulative=false&curInstr=0&heapPrimitives=nevernest&mode=display&origin=opt-frontend.js&py=3&rawInputLstJSON=%5B%5D&textReferences=false)\n"
   ]
  },
  {
   "cell_type": "code",
   "execution_count": 2,
   "id": "40313ac3-f961-4dd4-aa90-6d8e92dcf9b0",
   "metadata": {},
   "outputs": [
    {
     "name": "stdout",
     "output_type": "stream",
     "text": [
      "True\n",
      "Newest -> 3\n",
      "2\n",
      "1\n",
      "Newest -> 3\n",
      "True\n"
     ]
    }
   ],
   "source": [
    "from dsa.queue.queue_array import ArrayQueue\n",
    "\n",
    "queue = ArrayQueue(3)\n",
    "print(queue.empty())\n",
    "try:\n",
    "    queue.dequeue()\n",
    "except IndexError:\n",
    "    pass\n",
    "queue.enqueue(1)\n",
    "queue.enqueue(2)\n",
    "queue.enqueue(3)\n",
    "print(queue)\n",
    "queue.dequeue()\n",
    "queue.dequeue()\n",
    "print(queue)\n",
    "queue.dequeue()\n",
    "print(queue.empty())"
   ]
  },
  {
   "cell_type": "markdown",
   "id": "ace320ff-3838-4374-9a0a-b9db8312b4f6",
   "metadata": {},
   "source": [
    "#### Queue using linked list\n",
    "\n",
    "1. [Code](https://github.com/rszamszur/google-interview-preparation/blob/master/src/dsa/queue/queue_linked_list.py)\n",
    "2. [Visualization](https://pythontutor.com/visualize.html#code=%23!%20/usr/bin/env%20python%0A%0A%0Aclass%20Node%28object%29%3A%0A%20%20%20%20%22%22%22Node%20class%20implementation%20for%20linked%20list.%22%22%22%0A%0A%20%20%20%20def%20__init__%28self,%20value%29%3A%0A%20%20%20%20%20%20%20%20%22%22%22Initialize%20Node%20class%20object%20instance.%22%22%22%0A%20%20%20%20%20%20%20%20self.value%20%3D%20value%0A%20%20%20%20%20%20%20%20self.next%20%3D%20None%0A%0A%20%20%20%20def%20__str__%28self%29%3A%0A%20%20%20%20%20%20%20%20%22%22%22Node%20class%20__str__%20method.%22%22%22%0A%20%20%20%20%20%20%20%20return%20str%28self.value%29%0A%0A%20%20%20%20def%20__repr__%28self%29%3A%0A%20%20%20%20%20%20%20%20%22%22%22Node%20class%20__repr__%20method.%22%22%22%0A%20%20%20%20%20%20%20%20return%20%22Node%28%7Bvalue%7D%29%22.format%28value%3Dself.value%29%0A%0A%0Aclass%20LinkedListQueue%28object%29%3A%0A%20%20%20%20%22%22%22Queue%20implementation%20based%20on%20linked%20list%22%22%22%0A%0A%20%20%20%20def%20__init__%28self%29%3A%0A%20%20%20%20%20%20%20%20%22%22%22Initialize%20LinkedListQueue%20class%20object%20instance.%22%22%22%0A%20%20%20%20%20%20%20%20self._head%20%3D%20None%0A%20%20%20%20%20%20%20%20self._tail%20%3D%20None%0A%0A%20%20%20%20def%20__str__%28self%29%3A%0A%20%20%20%20%20%20%20%20%22%22%22LinkedListQueue%20class%20__str__%20method.%20Complexity%3A%20O%28n%29%22%22%22%0A%20%20%20%20%20%20%20%20queue%20%3D%20%22%22%0A%20%20%20%20%20%20%20%20node%20%3D%20self._head%0A%0A%20%20%20%20%20%20%20%20while%20node%3A%0A%20%20%20%20%20%20%20%20%20%20%20%20queue%20%2B%3D%20str%28node%29%0A%0A%20%20%20%20%20%20%20%20%20%20%20%20if%20node.next%3A%0A%20%20%20%20%20%20%20%20%20%20%20%20%20%20%20%20queue%20%2B%3D%20%22%5Cn%22%0A%0A%20%20%20%20%20%20%20%20%20%20%20%20node%20%3D%20node.next%0A%0A%20%20%20%20%20%20%20%20return%20%22Newest%20-%3E%20%7Bqueue%7D%20%3C-%20Oldest%22.format%28queue%3Dqueue%29%0A%0A%20%20%20%20def%20__repr__%28self%29%3A%0A%20%20%20%20%20%20%20%20%22%22%22LinkedListQueue%20class%20__repr__%20method.%22%22%22%0A%20%20%20%20%20%20%20%20return%20%22LinkedListQueue%28%29%22%0A%0A%20%20%20%20def%20empty%28self%29%3A%0A%20%20%20%20%20%20%20%20%22%22%22Return%20if%20the%20queue%20is%20empty.%20Complexity%3A%20O%281%29%22%22%22%0A%20%20%20%20%20%20%20%20return%20not%20self._head%0A%0A%20%20%20%20def%20enqueue%28self,%20value%29%3A%0A%20%20%20%20%20%20%20%20%22%22%22Add%20an%20item%20to%20the%20queue.%20Complexity%3A%20O%281%29%22%22%22%0A%20%20%20%20%20%20%20%20node%20%3D%20Node%28value%29%0A%20%20%20%20%20%20%20%20if%20self._tail%3A%0A%20%20%20%20%20%20%20%20%20%20%20%20self._tail.next%20%3D%20node%0A%0A%20%20%20%20%20%20%20%20self._tail%20%3D%20node%0A%20%20%20%20%20%20%20%20if%20not%20self._head%3A%0A%20%20%20%20%20%20%20%20%20%20%20%20self._head%20%3D%20node%0A%0A%20%20%20%20def%20dequeue%28self%29%3A%0A%20%20%20%20%20%20%20%20%22%22%22Removes%20an%20item%20from%20the%20queue.%20Complexity%3A%20O%281%29%22%22%22%0A%20%20%20%20%20%20%20%20if%20self._head%3A%0A%20%20%20%20%20%20%20%20%20%20%20%20node%20%3D%20self._head.next%0A%0A%20%20%20%20%20%20%20%20%20%20%20%20if%20self._tail%20%3D%3D%20self._head%3A%0A%20%20%20%20%20%20%20%20%20%20%20%20%20%20%20%20self._tail%20%3D%20node%0A%0A%20%20%20%20%20%20%20%20%20%20%20%20dequeued%20%3D%20self._head.value%0A%20%20%20%20%20%20%20%20%20%20%20%20del%20self._head%0A%20%20%20%20%20%20%20%20%20%20%20%20self._head%20%3D%20node%0A%0A%20%20%20%20%20%20%20%20%20%20%20%20return%20dequeued%0A%0A%20%20%20%20%20%20%20%20raise%20IndexError%28%22dequeue%20from%20empty%20queue%22%29%0A%0A%0Aqueue%20%3D%20LinkedListQueue%28%29%0Aqueue.empty%28%29%0Atry%3A%0A%20%20%20%20queue.dequeue%28%29%0Aexcept%20IndexError%3A%0A%20%20%20%20pass%0Aqueue.enqueue%281%29%0Aqueue.enqueue%282%29%0Aqueue.enqueue%283%29%0Aqueue.dequeue%28%29%0Aqueue.dequeue%28%29%0Aqueue.dequeue%28%29%0Aqueue.empty%28%29&cumulative=false&curInstr=0&heapPrimitives=nevernest&mode=display&origin=opt-frontend.js&py=3&rawInputLstJSON=%5B%5D&textReferences=false)\n"
   ]
  },
  {
   "cell_type": "code",
   "execution_count": 3,
   "id": "aec5c6d2-ba43-4b3d-a3c5-b60a8f0da16c",
   "metadata": {},
   "outputs": [
    {
     "name": "stdout",
     "output_type": "stream",
     "text": [
      "True\n",
      "Newest -> 1\n",
      "2\n",
      "3\n",
      "Newest -> 3\n",
      "True\n"
     ]
    }
   ],
   "source": [
    "from dsa.queue.queue_linked_list import LinkedListQueue\n",
    "\n",
    "queue = LinkedListQueue()\n",
    "print(queue.empty())\n",
    "try:\n",
    "    queue.dequeue()\n",
    "except IndexError:\n",
    "    pass\n",
    "queue.enqueue(1)\n",
    "queue.enqueue(2)\n",
    "queue.enqueue(3)\n",
    "print(queue)\n",
    "queue.dequeue()\n",
    "queue.dequeue()\n",
    "print(queue)\n",
    "queue.dequeue()\n",
    "print(queue.empty())"
   ]
  },
  {
   "cell_type": "markdown",
   "id": "ac05942e-a270-43a2-9e32-2d297005e9cc",
   "metadata": {},
   "source": [
    "## Resources\n",
    "\n",
    "- [queue (video)](https://www.coursera.org/lecture/data-structures/queues-EShpq)\n",
    "- [circular buffer](https://en.wikipedia.org/wiki/Circular_buffer)\n",
    "- [Queue in Data Structure](https://www.atnyla.com/tutorial/queue-introduction/3/318)"
   ]
  }
 ],
 "metadata": {
  "kernelspec": {
   "display_name": "Python 3",
   "language": "python",
   "name": "python3"
  },
  "language_info": {
   "codemirror_mode": {
    "name": "ipython",
    "version": 3
   },
   "file_extension": ".py",
   "mimetype": "text/x-python",
   "name": "python",
   "nbconvert_exporter": "python",
   "pygments_lexer": "ipython3",
   "version": "3.9.5"
  }
 },
 "nbformat": 4,
 "nbformat_minor": 5
}
