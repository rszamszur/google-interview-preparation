{
 "cells": [
  {
   "cell_type": "markdown",
   "id": "b872bee2-94d7-4060-9f92-53b259b6e9c9",
   "metadata": {
    "tags": []
   },
   "source": [
    "# Linked List\n",
    "\n",
    "## Definition\n",
    "\n",
    "A linked list is a linear data structure consisting of a group of nodes where each node points to the next node by means of a pointer.\n",
    "Each node is composed of data and a reference to the next node in the sequence. The last node has a reference to null which indicates the end of the linked list.\n",
    "Head node is the starting node of the linked list, and it contains the reference to the next node in the list. The head node will have a null reference when the list is empty.\n",
    "\n",
    "![linked list](https://upload.wikimedia.org/wikipedia/commons/thumb/6/6d/Singly-linked-list.svg/2560px-Singly-linked-list.svg.png)\n",
    "\n",
    "## Time complexity\n",
    "\n",
    "| Singly Linked List | no tail | with tail |\n",
    "|-------------------:|:-------:|:---------:|\n",
    "|    PushFront(data) |   O(1)  |           |\n",
    "|         TopFront() |   O(1)  |           |\n",
    "|         PopFront() |   O(1)  |           |\n",
    "|     PushBack(data) |   O(n)  |    O(1)   |\n",
    "|          TopBack() |   O(n)  |    O(1)   |\n",
    "|          PopBack() |   O(n)  |           |\n",
    "|        Find(value) |   O(n)  |           |\n",
    "|       Erase(value) |   O(n)  |           |\n",
    "|            Empty() |   O(1)  |           |\n",
    "\n",
    "## Types\n",
    "\n",
    "### Singly Linked List\n",
    "![singly](https://upload.wikimedia.org/wikipedia/commons/thumb/6/6d/Singly-linked-list.svg/2560px-Singly-linked-list.svg.png)\n",
    "\n",
    "### Doubly Linked List\n",
    "![Doubly](https://upload.wikimedia.org/wikipedia/commons/thumb/5/5e/Doubly-linked-list.svg/2560px-Doubly-linked-list.svg.png)\n",
    "\n",
    "### Circular Linked List\n",
    "![circular](https://upload.wikimedia.org/wikipedia/commons/thumb/d/df/Circularly-linked-list.svg/2560px-Circularly-linked-list.svg.png)\n"
   ]
  },
  {
   "cell_type": "markdown",
   "id": "dddaf27e-6b80-45cd-9355-f487bb70fe5f",
   "metadata": {},
   "source": [
    "## Implementation\n",
    "\n",
    "### Python"
   ]
  },
  {
   "cell_type": "code",
   "execution_count": 8,
   "id": "c332c966-a541-4c59-b06c-a83d163e44aa",
   "metadata": {},
   "outputs": [],
   "source": [
    "import os\n",
    "import sys\n",
    "module_path = os.path.abspath(os.path.join('../src'))\n",
    "if module_path not in sys.path:\n",
    "    sys.path.append(module_path)"
   ]
  },
  {
   "cell_type": "markdown",
   "id": "ba362f68-5fe9-4665-b99f-75e1fca71ea9",
   "metadata": {},
   "source": [
    "#### Singly Linked List\n",
    "\n",
    "1. [code](https://github.com/rszamszur/google-interview-preparation/blob/master/src/dsa/linkedlist/singly.py)\n",
    "2. [Visualization](https://pythontutor.com/visualize.html#code=class%20Node%28object%29%3A%0A%20%20%20%20%0A%20%20%20%20def%20__init__%28self,%20value%29%3A%0A%20%20%20%20%20%20%20%20self.value%20%3D%20value%0A%20%20%20%20%20%20%20%20self.next%20%3D%20None%0A%20%20%20%20%20%20%0A%0Aclass%20SinglyLinkedList%28object%29%3A%0A%20%20%20%20%0A%20%20%20%20def%20__init__%28self%29%3A%0A%20%20%20%20%20%20%20%20self.head%20%3D%20None%0A%0A%20%20%20%20def%20push_front%28self,%20value%29%3A%0A%20%20%20%20%20%20%20%20node%20%3D%20Node%28value%29%0A%20%20%20%20%20%20%20%20node.next%20%3D%20self.head%0A%20%20%20%20%20%20%20%20self.head%20%3D%20node%0A%20%20%20%20%20%20%20%20%0A%20%20%20%20def%20top_front%28self%29%3A%0A%20%20%20%20%20%20%20%20if%20self.head%3A%0A%20%20%20%20%20%20%20%20%20%20%20%20return%20self.head.value%0A%20%20%20%20%0A%20%20%20%20def%20pop_front%28self%29%3A%0A%20%20%20%20%20%20%20%20if%20self.head%3A%0A%20%20%20%20%20%20%20%20%20%20%20%20node%20%3D%20self.head.next%0A%20%20%20%20%20%20%20%20%20%20%20%20del%20self.head%0A%20%20%20%20%20%20%20%20%20%20%20%20self.head%20%3D%20node%0A%0A%20%20%20%20def%20push_back%28self,%20value%29%3A%0A%20%20%20%20%20%20%20%20if%20self.head%3A%0A%20%20%20%20%20%20%20%20%20%20%20%20node%20%3D%20self.head%0A%20%20%20%20%20%20%20%20%20%20%20%20while%20node.next%3A%0A%20%20%20%20%20%20%20%20%20%20%20%20%20%20%20%20node%20%3D%20node.next%0A%20%20%20%20%20%20%20%20%20%20%20%20node.next%20%3D%20Node%28value%29%0A%20%20%20%20%20%20%20%20else%3A%0A%20%20%20%20%20%20%20%20%20%20%20%20self.head%20%3D%20Node%28value%29%0A%20%20%20%20%0A%20%20%20%20def%20top_back%28self%29%3A%0A%20%20%20%20%20%20%20%20if%20self.head%3A%0A%20%20%20%20%20%20%20%20%20%20%20%20node%20%3D%20self.head%0A%20%20%20%20%20%20%20%20%20%20%20%20while%20node.next%3A%0A%20%20%20%20%20%20%20%20%20%20%20%20%20%20%20%20node%20%3D%20node.next%0A%0A%20%20%20%20%20%20%20%20%20%20%20%20return%20node.value%0A%0A%20%20%20%20def%20pop_back%28self%29%3A%0A%20%20%20%20%20%20%20%20if%20self.head%3A%0A%20%20%20%20%20%20%20%20%20%20%20%20if%20not%20self.head.next%3A%0A%20%20%20%20%20%20%20%20%20%20%20%20%20%20%20%20del%20self.head%0A%20%20%20%20%20%20%20%20%20%20%20%20%20%20%20%20self.head%20%3D%20None%0A%20%20%20%20%20%20%20%20%20%20%20%20else%3A%0A%20%20%20%20%20%20%20%20%20%20%20%20%20%20%20%20node%20%3D%20self.head%0A%20%20%20%20%20%20%20%20%20%20%20%20%20%20%20%20while%20node.next.next%3A%0A%20%20%20%20%20%20%20%20%20%20%20%20%20%20%20%20%20%20%20%20node%20%3D%20node.next%0A%20%20%20%20%20%20%20%20%20%20%20%20%20%20%20%20del%20node.next%0A%20%20%20%20%20%20%20%20%20%20%20%20%20%20%20%20node.next%20%3D%20None%0A%0A%20%20%20%20def%20find%28self,%20value%29%3A%0A%20%20%20%20%20%20%20%20node%20%3D%20self.head%0A%20%20%20%20%20%20%20%20while%20node%3A%0A%20%20%20%20%20%20%20%20%20%20%20%20if%20node.value%20%3D%3D%20value%3A%0A%20%20%20%20%20%20%20%20%20%20%20%20%20%20%20%20return%20True%0A%0A%20%20%20%20%20%20%20%20%20%20%20%20node%20%3D%20node.next%0A%20%20%20%20%20%20%20%20return%20False%0A%20%20%20%20%0A%20%20%20%20def%20erase%28self,%20value%29%3A%0A%20%20%20%20%20%20%20%20node%20%3D%20self.head%0A%20%20%20%20%20%20%20%20prev%20%3D%20None%0A%20%20%20%20%20%20%20%20while%20node%3A%0A%20%20%20%20%20%20%20%20%20%20%20%20if%20node.value%20%3D%3D%20value%3A%0A%20%20%20%20%20%20%20%20%20%20%20%20%20%20%20%20if%20prev%3A%0A%20%20%20%20%20%20%20%20%20%20%20%20%20%20%20%20%20%20%20%20prev.next%20%3D%20node.next%0A%20%20%20%20%20%20%20%20%20%20%20%20%20%20%20%20else%3A%0A%20%20%20%20%20%20%20%20%20%20%20%20%20%20%20%20%20%20%20%20self.head%20%3D%20node.next%0A%20%20%20%20%20%20%20%20%20%20%20%20%20%20%20%20del%20node%0A%20%20%20%20%20%20%20%20%20%20%20%20%20%20%20%20break%0A%20%20%20%20%20%20%20%20%20%20%20%20prev%20%3D%20node%0A%20%20%20%20%20%20%20%20%20%20%20%20node%20%3D%20node.next%0A%0A%20%20%20%20def%20length%28self%29%3A%0A%20%20%20%20%20%20%20%20node%20%3D%20self.head%0A%20%20%20%20%20%20%20%20count%20%3D%200%0A%20%20%20%20%20%20%20%20while%20node%3A%0A%20%20%20%20%20%20%20%20%20%20%20%20count%20%2B%3D%201%0A%20%20%20%20%20%20%20%20%20%20%20%20node%20%3D%20node.next%0A%20%20%20%20%20%20%20%20return%20count%0A%0A%20%20%20%20def%20empty%28self%29%3A%0A%20%20%20%20%20%20%20%20return%20not%20self.head%0A%0A%23%20Comment%20and%20experiment%20with%20available%20operations%0Aobj%20%3D%20SinglyLinkedList%28%29%0Aobj.push_front%281%29%0Aobj.push_front%282%29%0Aobj.push_front%283%29%0Aobj.length%28%29%0Aobj.find%282%29%0Aobj.pop_front%28%29%0Aobj.pop_front%28%29%0Aobj.push_back%282%29%0Aobj.push_back%283%29%0Aobj.pop_back%28%29%0Aobj.pop_back%28%29%0A&cumulative=false&curInstr=0&heapPrimitives=nevernest&mode=display&origin=opt-frontend.js&py=3&rawInputLstJSON=%5B%5D&textReferences=false)"
   ]
  },
  {
   "cell_type": "code",
   "execution_count": 14,
   "id": "876992b1-b660-43dc-a7ab-893da324372a",
   "metadata": {},
   "outputs": [
    {
     "name": "stdout",
     "output_type": "stream",
     "text": [
      "True\n",
      "2\n",
      "1\n",
      "[2, 1]\n",
      "2\n",
      "True\n",
      "[1, 3]\n",
      "[1]\n"
     ]
    }
   ],
   "source": [
    "from dsa.linkedlist.singly import SinglyLinkedList\n",
    "\n",
    "obj = SinglyLinkedList()\n",
    "print(obj.empty())\n",
    "obj.push_front(1)\n",
    "obj.push_front(2)\n",
    "print(obj.top_front())\n",
    "print(obj.top_back())\n",
    "print(obj)\n",
    "print(obj.length())\n",
    "print(obj.find(2))\n",
    "obj.pop_front()\n",
    "obj.push_back(3)\n",
    "print(obj)\n",
    "obj.pop_back()\n",
    "print(obj)"
   ]
  },
  {
   "cell_type": "markdown",
   "id": "20a64269-07a3-49dd-bd0e-65bb510f7194",
   "metadata": {},
   "source": [
    "### Singly Linked List (with tail)\n",
    "\n",
    "1. [Code](https://github.com/rszamszur/google-interview-preparation/blob/master/src/dsa/linkedlist/singly_tail.py)"
   ]
  },
  {
   "cell_type": "code",
   "execution_count": 15,
   "id": "aac150e5-b155-446c-8e49-040847ff007f",
   "metadata": {},
   "outputs": [
    {
     "name": "stdout",
     "output_type": "stream",
     "text": [
      "True\n",
      "2\n",
      "1\n",
      "[2, 1]\n",
      "2\n",
      "True\n",
      "[1, 3]\n",
      "[1]\n"
     ]
    }
   ],
   "source": [
    "from dsa.linkedlist.singly_tail import SinglyTailLinkedList\n",
    "\n",
    "obj = SinglyTailLinkedList()\n",
    "print(obj.empty())\n",
    "obj.push_front(1)\n",
    "obj.push_front(2)\n",
    "print(obj.top_front())\n",
    "print(obj.top_back())\n",
    "print(obj)\n",
    "print(obj.length())\n",
    "print(obj.find(2))\n",
    "obj.pop_front()\n",
    "obj.push_back(3)\n",
    "print(obj)\n",
    "obj.pop_back()\n",
    "print(obj)"
   ]
  },
  {
   "cell_type": "markdown",
   "id": "7e1faa28-d63e-4fb1-9452-dec0ef30f75b",
   "metadata": {},
   "source": [
    "### Doubly Linked List\n",
    "\n",
    "1. [Code](https://github.com/rszamszur/google-interview-preparation/blob/master/src/dsa/linkedlist/doubly.py)\n",
    "2. [Visualization](https://pythontutor.com/visualize.html#code=class%20Node%28object%29%3A%0A%0A%20%20%20%20def%20__init__%28self,%20value%29%3A%0A%20%20%20%20%20%20%20%20self.value%20%3D%20value%0A%20%20%20%20%20%20%20%20self.prev%20%3D%20None%0A%20%20%20%20%20%20%20%20self.next%20%3D%20None%0A%0A%0Aclass%20DoublyLinkedList%28object%29%3A%0A%0A%20%20%20%20def%20__init__%28self%29%3A%0A%20%20%20%20%20%20%20%20self.head%20%3D%20None%0A%0A%20%20%20%20def%20push_front%28self,%20value%29%3A%0A%20%20%20%20%20%20%20%20node%20%3D%20Node%28value%29%0A%20%20%20%20%20%20%20%20if%20self.head%3A%0A%20%20%20%20%20%20%20%20%20%20%20%20node.next%20%3D%20self.head%0A%20%20%20%20%20%20%20%20%20%20%20%20self.head.prev%20%3D%20node%0A%20%20%20%20%20%20%20%20self.head%20%3D%20node%0A%0A%20%20%20%20def%20top_front%28self%29%3A%0A%20%20%20%20%20%20%20%20if%20self.head%3A%0A%20%20%20%20%20%20%20%20%20%20%20%20return%20self.head.value%0A%0A%20%20%20%20def%20pop_front%28self%29%3A%0A%20%20%20%20%20%20%20%20if%20self.head%3A%0A%20%20%20%20%20%20%20%20%20%20%20%20node%20%3D%20self.head.next%0A%20%20%20%20%20%20%20%20%20%20%20%20if%20node%3A%0A%20%20%20%20%20%20%20%20%20%20%20%20%20%20%20%20node.prev%20%3D%20None%0A%20%20%20%20%20%20%20%20%20%20%20%20del%20self.head%0A%20%20%20%20%20%20%20%20%20%20%20%20self.head%20%3D%20node%0A%0A%20%20%20%20def%20push_back%28self,%20value%29%3A%0A%20%20%20%20%20%20%20%20if%20self.head%3A%0A%20%20%20%20%20%20%20%20%20%20%20%20node%20%3D%20self.head%0A%20%20%20%20%20%20%20%20%20%20%20%20while%20node.next%3A%0A%20%20%20%20%20%20%20%20%20%20%20%20%20%20%20%20node%20%3D%20node.next%0A%20%20%20%20%20%20%20%20%20%20%20%20node.next%20%3D%20Node%28value%29%0A%20%20%20%20%20%20%20%20%20%20%20%20node.next.prev%20%3D%20node%0A%20%20%20%20%20%20%20%20else%3A%0A%20%20%20%20%20%20%20%20%20%20%20%20self.head%20%3D%20Node%28value%29%0A%0A%20%20%20%20def%20top_back%28self%29%3A%0A%20%20%20%20%20%20%20%20if%20self.head%3A%0A%20%20%20%20%20%20%20%20%20%20%20%20node%20%3D%20self.head%0A%20%20%20%20%20%20%20%20%20%20%20%20while%20node.next%3A%0A%20%20%20%20%20%20%20%20%20%20%20%20%20%20%20%20node%20%3D%20node.next%0A%20%20%20%20%20%20%20%20%20%20%20%20return%20node.value%0A%0A%20%20%20%20def%20pop_back%28self%29%3A%0A%20%20%20%20%20%20%20%20if%20self.head%3A%0A%20%20%20%20%20%20%20%20%20%20%20%20if%20not%20self.head.next%3A%0A%20%20%20%20%20%20%20%20%20%20%20%20%20%20%20%20del%20self.head%0A%20%20%20%20%20%20%20%20%20%20%20%20%20%20%20%20self.head%20%3D%20None%0A%20%20%20%20%20%20%20%20%20%20%20%20else%3A%0A%20%20%20%20%20%20%20%20%20%20%20%20%20%20%20%20node%20%3D%20self.head%0A%20%20%20%20%20%20%20%20%20%20%20%20%20%20%20%20while%20node.next.next%3A%0A%20%20%20%20%20%20%20%20%20%20%20%20%20%20%20%20%20%20%20%20node%20%3D%20node.next%0A%20%20%20%20%20%20%20%20%20%20%20%20%20%20%20%20del%20node.next%0A%20%20%20%20%20%20%20%20%20%20%20%20%20%20%20%20node.next%20%3D%20None%0A%0A%20%20%20%20def%20find%28self,%20value%29%3A%0A%20%20%20%20%20%20%20%20node%20%3D%20self.head%0A%20%20%20%20%20%20%20%20while%20node%3A%0A%20%20%20%20%20%20%20%20%20%20%20%20if%20node.value%20%3D%3D%20value%3A%0A%20%20%20%20%20%20%20%20%20%20%20%20%20%20%20%20return%20True%0A%20%20%20%20%20%20%20%20%20%20%20%20node%20%3D%20node.next%0A%0A%20%20%20%20%20%20%20%20return%20False%0A%0A%20%20%20%20def%20erase%28self,%20value%29%3A%0A%20%20%20%20%20%20%20%20node%20%3D%20self.head%0A%20%20%20%20%20%20%20%20while%20node%3A%0A%20%20%20%20%20%20%20%20%20%20%20%20if%20node.value%20%3D%3D%20value%3A%0A%20%20%20%20%20%20%20%20%20%20%20%20%20%20%20%20if%20node.prev%3A%0A%20%20%20%20%20%20%20%20%20%20%20%20%20%20%20%20%20%20%20%20node.prev.next%20%3D%20None%0A%20%20%20%20%20%20%20%20%20%20%20%20%20%20%20%20%20%20%20%20if%20node.next%3A%0A%20%20%20%20%20%20%20%20%20%20%20%20%20%20%20%20%20%20%20%20%20%20%20%20node.prev.next%20%3D%20node.next%0A%20%20%20%20%20%20%20%20%20%20%20%20%20%20%20%20%20%20%20%20%20%20%20%20node.next.prev%20%3D%20node.prev%0A%20%20%20%20%20%20%20%20%20%20%20%20%20%20%20%20else%3A%0A%20%20%20%20%20%20%20%20%20%20%20%20%20%20%20%20%20%20%20%20self.head%20%3D%20None%0A%20%20%20%20%20%20%20%20%20%20%20%20%20%20%20%20%20%20%20%20if%20node.next%3A%0A%20%20%20%20%20%20%20%20%20%20%20%20%20%20%20%20%20%20%20%20%20%20%20%20self.head%20%3D%20node.next%0A%20%20%20%20%20%20%20%20%20%20%20%20%20%20%20%20%20%20%20%20%20%20%20%20self.head.prev%20%3D%20None%0A%20%20%20%20%20%20%20%20%20%20%20%20%20%20%20%20del%20node%0A%20%20%20%20%20%20%20%20%20%20%20%20%20%20%20%20break%0A%20%20%20%20%20%20%20%20%20%20%20%20node%20%3D%20node.next%0A%0A%20%20%20%20def%20length%28self%29%3A%0A%20%20%20%20%20%20%20%20node%20%3D%20self.head%0A%20%20%20%20%20%20%20%20count%20%3D%200%0A%20%20%20%20%20%20%20%20while%20node%3A%0A%20%20%20%20%20%20%20%20%20%20%20%20count%20%2B%3D%201%0A%20%20%20%20%20%20%20%20%20%20%20%20node%20%3D%20node.next%0A%20%20%20%20%20%20%20%20return%20count%0A%0A%20%20%20%20def%20empty%28self%29%3A%0A%20%20%20%20%20%20%20%20return%20not%20self.head%0A%0Aobj%20%3D%20DoublyLinkedList%28%29%0Aobj.push_front%281%29%0Aobj.push_front%282%29%0Aobj.push_front%283%29%0Aobj.length%28%29%0Aobj.find%282%29%0Aobj.pop_front%28%29%0Aobj.pop_front%28%29%0Aobj.push_back%282%29%0Aobj.push_back%283%29%0Aobj.pop_back%28%29%0Aobj.pop_back%28%29&cumulative=false&curInstr=0&heapPrimitives=nevernest&mode=display&origin=opt-frontend.js&py=3&rawInputLstJSON=%5B%5D&textReferences=false)"
   ]
  },
  {
   "cell_type": "code",
   "execution_count": 16,
   "id": "8c4778ba-91af-4cc1-833e-adc96e339726",
   "metadata": {},
   "outputs": [
    {
     "name": "stdout",
     "output_type": "stream",
     "text": [
      "True\n",
      "2\n",
      "1\n",
      "[2, 1]\n",
      "2\n",
      "True\n",
      "[1, 3]\n",
      "[1]\n"
     ]
    }
   ],
   "source": [
    "from dsa.linkedlist.doubly import DoublyLinkedList\n",
    "\n",
    "obj = DoublyLinkedList()\n",
    "print(obj.empty())\n",
    "obj.push_front(1)\n",
    "obj.push_front(2)\n",
    "print(obj.top_front())\n",
    "print(obj.top_back())\n",
    "print(obj)\n",
    "print(obj.length())\n",
    "print(obj.find(2))\n",
    "obj.pop_front()\n",
    "obj.push_back(3)\n",
    "print(obj)\n",
    "obj.pop_back()\n",
    "print(obj)"
   ]
  },
  {
   "cell_type": "markdown",
   "id": "24279136-df55-4a58-8ec2-e60f900cfa74",
   "metadata": {},
   "source": [
    "## Resources\n",
    "\n",
    "- [Singly-Linked Lists (video)](https://www.coursera.org/lecture/data-structures/singly-linked-lists-kHhgK)\n",
    "- [Linked list introduction](https://www.atnyla.com/tutorial/linked-list-introduction/3/307)\n",
    "- [Linked List | Representation and Types of Linked List](https://dev.faceprep.in/data-structures/linked-list-introduction/)\n",
    "- [Singly Linked Lists](https://www.atnyla.com/tutorial/singly-linked-list/3/309)\n",
    "- [Doubly Linked Lists](https://www.atnyla.com/tutorial/doubly-linked-list/3/310)\n",
    "- [In the Real World: Lists vs. Arrays (video)](https://www.coursera.org/lecture/data-structures-optimizing-performance/in-the-real-world-lists-vs-arrays-QUaUd)\n",
    "- [Why you should avoid Linked Lists (video)](https://youtu.be/YQs6IC-vgmo)"
   ]
  }
 ],
 "metadata": {
  "kernelspec": {
   "display_name": "Python 3",
   "language": "python",
   "name": "python3"
  },
  "language_info": {
   "codemirror_mode": {
    "name": "ipython",
    "version": 3
   },
   "file_extension": ".py",
   "mimetype": "text/x-python",
   "name": "python",
   "nbconvert_exporter": "python",
   "pygments_lexer": "ipython3",
   "version": "3.9.5"
  }
 },
 "nbformat": 4,
 "nbformat_minor": 5
}
