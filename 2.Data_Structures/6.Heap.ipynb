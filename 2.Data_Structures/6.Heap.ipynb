{
 "cells": [
  {
   "cell_type": "markdown",
   "id": "fb730834-0bd5-4c7c-b3b3-b9f65ac89f89",
   "metadata": {},
   "source": [
    "# Heap\n",
    "\n",
    "## Definition\n",
    "\n"
   ]
  },
  {
   "cell_type": "markdown",
   "id": "2048f486-8f15-483a-af4b-0805541c14cf",
   "metadata": {},
   "source": [
    "## Resources\n",
    "\n",
    "- [Heaps and Heap Sort (video)](https://youtu.be/B7hVxCmfPtM)\n",
    "- [Heaps and Heap Sort (lecture notes)](https://ocw.mit.edu/courses/electrical-engineering-and-computer-science/6-006-introduction-to-algorithms-fall-2011/lecture-videos/MIT6_006F11_lec04.pdf)\n",
    "- [Heaps/Priority Queues](https://www.hackerearth.com/practice/data-structures/trees/heapspriority-queues/tutorial/)\n",
    "- []()\n",
    "- []()"
   ]
  }
 ],
 "metadata": {
  "kernelspec": {
   "display_name": "Python 3",
   "language": "python",
   "name": "python3"
  },
  "language_info": {
   "codemirror_mode": {
    "name": "ipython",
    "version": 3
   },
   "file_extension": ".py",
   "mimetype": "text/x-python",
   "name": "python",
   "nbconvert_exporter": "python",
   "pygments_lexer": "ipython3",
   "version": "3.9.5"
  }
 },
 "nbformat": 4,
 "nbformat_minor": 5
}