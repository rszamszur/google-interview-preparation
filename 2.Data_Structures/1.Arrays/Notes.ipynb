{
 "cells": [
  {
   "cell_type": "markdown",
   "id": "dcd963f1-9a10-4b5b-9963-de7d328f8e94",
   "metadata": {},
   "source": [
    "# Arrays\n",
    "\n",
    "## Definition\n",
    "\n",
    "An array is a contiguous area of memory consisting of equal-size elements indexed by contiguous integers. In more plain words, it's a data structure that can store a fixed-size sequential collection of elements of the same type.\n",
    "\n",
    "![array](https://github.com/rszamszur/google-interview-preparation/blob/master/assets/images/array.png)\n",
    "\n",
    "The key point about an array is constant time access to any particular element in an array. But how? Answer: simple arithmetics:\n",
    "\n",
    "$first\\_address + element\\_size * (index - first\\_index)$\n",
    "\n",
    "NOTE! If array implementation is using $0$ based indexing $first\\_index$ is irrelevant.\n",
    "\n",
    "## Example\n",
    "\n",
    "![array2](https://github.com/rszamszur/google-interview-preparation/blob/master/assets/images/array2.jpeg)\n",
    "\n",
    "If above array is storing 32bits integers, and its first addres is 200. Then address of element at index 3 would be:\n",
    "\n",
    "$200 + ((32/8) * 3) = 212$\n",
    "\n",
    "## Time complexity of common operations\n",
    "\n",
    "|        | Access | Insertion | Deletion |\n",
    "|--------|:------:|:---------:|:--------:|\n",
    "|  Start |  O(1)  |    O(n)   |   O(n)   |\n",
    "|    End |  O(1)  |    O(1)   |   O(1)   |\n",
    "| Middle |  O(1)  |    O(n)   |   O(n)   |\n",
    "\n",
    "## Space complexity\n",
    "\n",
    "An array is fixed-size, therefore space complexity is $O(n)$ regardles whether all values are used.\n",
    "\n",
    "## Multi-Dimensional arrays\n",
    "\n",
    "![row-major](https://github.com/rszamszur/google-interview-preparation/blob/master/assets/images/row-major-order.png)\n",
    "![column-major](https://github.com/rszamszur/google-interview-preparation/blob/master/assets/images/column-major-order.png)\n",
    "\n",
    "## Resources\n",
    "\n",
    "- [Arrays](https://www.coursera.org/lecture/data-structures/arrays-OsBSF)\n",
    "- [Visualization](https://www.cs.usfca.edu/~galles/visualization/StackArray.html)\n",
    "- [Multi-Dimensional](https://www.atnyla.com/tutorial/two-dimension-array-in-data-structure/3/301)\n",
    "- [Dynamic arrays](https://www.coursera.org/lecture/data-structures/dynamic-arrays-EwbnV)\n",
    "- [Jagged Arrays](https://youtu.be/1jtrQqYpt7g)\n",
    "- [Data Structures: Arrays vs Linked Lists](https://youtu.be/lC-yYCOnN8Q)\n"
   ]
  }
 ],
 "metadata": {
  "kernelspec": {
   "display_name": "Python 3",
   "language": "python",
   "name": "python3"
  },
  "language_info": {
   "codemirror_mode": {
    "name": "ipython",
    "version": 3
   },
   "file_extension": ".py",
   "mimetype": "text/x-python",
   "name": "python",
   "nbconvert_exporter": "python",
   "pygments_lexer": "ipython3",
   "version": "3.9.5"
  }
 },
 "nbformat": 4,
 "nbformat_minor": 5
}
