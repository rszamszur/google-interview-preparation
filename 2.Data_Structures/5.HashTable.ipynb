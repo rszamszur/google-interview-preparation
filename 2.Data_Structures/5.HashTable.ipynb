{
 "cells": [
  {
   "cell_type": "markdown",
   "id": "3907b381-8456-453d-9df0-af0953bc0566",
   "metadata": {},
   "source": [
    "# Hash Table\n",
    "\n",
    "## Definition\n",
    "\n",
    "### Hashes collisions\n",
    "\n",
    "```shell\n",
    "$ python\n",
    "Python 3.9.5 (default, May 14 2021, 00:00:00) \n",
    "[GCC 10.3.1 20210422 (Red Hat 10.3.1-1)] on linux\n",
    "Type \"help\", \"copyright\", \"credits\" or \"license\" for more information.\n",
    ">>> hash('\\0B')\n",
    "-2106417055349253107\n",
    ">>> hash('\\0\\0C')\n",
    "-8252262576489450206\n",
    ">>>\n",
    "$ python2.7\n",
    "Python 2.7.18 (default, May 19 2021, 00:00:00) \n",
    "[GCC 10.3.1 20210422 (Red Hat 10.3.1-1)] on linux2\n",
    "Type \"help\", \"copyright\", \"credits\" or \"license\" for more information.\n",
    ">>> hash('\\0B')\n",
    "64\n",
    ">>> hash('\\0\\0C')\n",
    "64\n",
    "```\n",
    "\n",
    "Python object [`__hash__`](https://docs.python.org/3/reference/datamodel.html#object.__hash__) method is called by built-in function [`hash()`](https://docs.python.org/3/library/functions.html#hash)\n",
    "\n",
    "## Time complexity\n",
    "\n",
    "## Implementation\n",
    "\n",
    "## Resources\n",
    "\n",
    "- [Hashing with Chaining (video)](https://youtu.be/0M_kIqhwbFo)"
   ]
  },
  {
   "cell_type": "code",
   "execution_count": null,
   "id": "cd2a05c5-1d21-4b00-bb57-aed17c232e83",
   "metadata": {},
   "outputs": [],
   "source": []
  }
 ],
 "metadata": {
  "kernelspec": {
   "display_name": "Python 3",
   "language": "python",
   "name": "python3"
  },
  "language_info": {
   "codemirror_mode": {
    "name": "ipython",
    "version": 3
   },
   "file_extension": ".py",
   "mimetype": "text/x-python",
   "name": "python",
   "nbconvert_exporter": "python",
   "pygments_lexer": "ipython3",
   "version": "3.9.5"
  }
 },
 "nbformat": 4,
 "nbformat_minor": 5
}
