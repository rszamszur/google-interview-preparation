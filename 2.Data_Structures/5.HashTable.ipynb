{
 "cells": [
  {
   "cell_type": "markdown",
   "id": "3907b381-8456-453d-9df0-af0953bc0566",
   "metadata": {},
   "source": [
    "# Hash Table\n",
    "\n",
    "## Definition\n",
    "\n",
    "Hash table (hash map) is a data structure that implements an associative array abstract data type, a structure that can map keys to values. A hash table uses a hash function to compute an index, also called a hash code, into an array of buckets or slots, from which the desired value can be found. During lookup, the key is hashed and the resulting hash indicates where the corresponding value is stored. Ideally, the hash function will assign each key to a unique bucket, but most hash table designs employ an imperfect hash function, which might cause hash collisions where the hash function generates the same index for more than one key. Such collisions are typically accommodated in some way.\n",
    "\n",
    "![hashtable](https://upload.wikimedia.org/wikipedia/commons/thumb/7/7d/Hash_table_3_1_1_0_1_0_0_SP.svg/1920px-Hash_table_3_1_1_0_1_0_0_SP.svg.png)\n"
   ]
  },
  {
   "cell_type": "markdown",
   "id": "2c127c1f-f6f3-468f-8887-39b36a36587a",
   "metadata": {},
   "source": [
    "## Hash fucntions\n",
    "\n",
    "### Division mehtod\n",
    "\n",
    "$h(k) = k \\mod m$\n",
    "\n",
    "Where $k = key$ and $m = number\\ of\\ slots\\ in\\ the\\ table$\n",
    "\n",
    "This is practical when `m` is prime but not too close to power of 2 or 10 (then just depending on low bits/digits).\n",
    "But it is inconvenient to find a prime number, and division is slow."
   ]
  },
  {
   "cell_type": "code",
   "execution_count": 32,
   "id": "c66638f4-cd31-4dc5-bc1a-1d052283f853",
   "metadata": {},
   "outputs": [
    {
     "name": "stdout",
     "output_type": "stream",
     "text": [
      "2\n",
      "4\n",
      "8\n"
     ]
    }
   ],
   "source": [
    "# number of slots in the table\n",
    "m = 10\n",
    "\n",
    "\n",
    "def division_method(value):\n",
    "    if isinstance(value, str):\n",
    "        k = sum([ord(c) for c in value])\n",
    "    elif isinstance(value, int) or isinstance(value, float):\n",
    "        k = value\n",
    "    elif isinstance(value, object):\n",
    "        k = id(object)\n",
    "    else:\n",
    "        raise TypeError(\"unhashable type: {type}\".format(type(value)))\n",
    "    \n",
    "    return k % m\n",
    "\n",
    "\n",
    "print(division_method(2))\n",
    "print(division_method(1234))\n",
    "print(division_method(\"test\"))"
   ]
  },
  {
   "cell_type": "markdown",
   "id": "cb7825fd-1289-43c7-baec-a9c166cec8b3",
   "metadata": {},
   "source": [
    "### Multiplication Method\n",
    "\n",
    "$h(k) = [(a*k) \\mod 2^{w}] >> (w - r)$\n",
    "\n",
    "Where $a$ is random, $k$ is $w$ bits, and $m = 2^{r}$\n",
    "\n",
    "This is practical when $a$ is odd and $2^{w−1} < a < 2^{w}$ and $a$ not too close to $2^{w−1}$ or $2^{w}$\n",
    "Multiplication and bit extraction are faster than division."
   ]
  },
  {
   "cell_type": "code",
   "execution_count": 27,
   "id": "cd2a05c5-1d21-4b00-bb57-aed17c232e83",
   "metadata": {},
   "outputs": [
    {
     "name": "stdout",
     "output_type": "stream",
     "text": [
      "4\n",
      "14\n",
      "10\n"
     ]
    }
   ],
   "source": [
    "import random\n",
    "\n",
    "\n",
    "# number of slots in the table\n",
    "r = 4\n",
    "m = 2 ** r\n",
    "\n",
    "\n",
    "def multiplication_method(value):\n",
    "    if isinstance(value, str):\n",
    "        k = sum([ord(c) for c in value])\n",
    "    elif isinstance(value, int) or isinstance(value, float):\n",
    "        k = value\n",
    "    elif isinstance(value, object):\n",
    "        k = id(object)\n",
    "    else:\n",
    "        raise TypeError(\"unhashable type: {type}\".format(type(value)))\n",
    "        \n",
    "    w = len(bin(k)) - 2\n",
    "    a = random.randint((2 ** (w - 1)), (2 ** w))\n",
    "    return ((a*k) % 2 ** w) >> (w - r)\n",
    "\n",
    "print(multiplication_method(123))\n",
    "print(multiplication_method(\"test\"))\n",
    "print(multiplication_method(10))\n"
   ]
  },
  {
   "cell_type": "markdown",
   "id": "732fc9da-1413-4f2a-b5d7-1668113dbf44",
   "metadata": {},
   "source": [
    "### Universal Hashing\n",
    "\n",
    "$h(k) = [(a*k + b) \\mod p] \\mod m$\n",
    "\n",
    "Where $a$, and $b$ are random $\\in \\{0, 1, 2, ...p - 1\\}$ and $p$ is large prime $p>|\\upsilon|$"
   ]
  },
  {
   "cell_type": "code",
   "execution_count": 46,
   "id": "251cb104-57ce-4933-b6ce-dfdb1237d863",
   "metadata": {},
   "outputs": [
    {
     "name": "stdout",
     "output_type": "stream",
     "text": [
      "3\n",
      "1\n",
      "7\n"
     ]
    }
   ],
   "source": [
    "import random\n",
    "\n",
    "\n",
    "# I don't know if 30 digits prime number is bigger than universe U of all keys, but for this example I thinks it's sufficient.\n",
    "p = 128306691506178072038422964657\n",
    "# number of slots in the table\n",
    "m = 10\n",
    "\n",
    "\n",
    "def universal_hashing(value):\n",
    "    if isinstance(value, str):\n",
    "        k = sum([ord(c) for c in value])\n",
    "    elif isinstance(value, int) or isinstance(value, float):\n",
    "        k = value\n",
    "    elif isinstance(value, object):\n",
    "        k = id(object)\n",
    "    else:\n",
    "        raise TypeError(\"unhashable type: {type}\".format(type(value)))\n",
    "    \n",
    "    a = random.randint(0, p - 1)\n",
    "    b = random.randint(0, p - 1)\n",
    "    return ((a*k + b) % p) % m\n",
    "\n",
    "\n",
    "print(universal_hashing(123))\n",
    "print(universal_hashing(\"test\"))\n",
    "print(universal_hashing(10))"
   ]
  },
  {
   "cell_type": "markdown",
   "id": "00e3a78a-8312-49fa-82e3-09b00feeb31d",
   "metadata": {
    "tags": []
   },
   "source": [
    "## Hash collisions\n",
    "\n",
    "For instance in Python 2.7\n",
    "\n",
    "```shell\n",
    "$ python\n",
    "Python 3.9.5 (default, May 14 2021, 00:00:00) \n",
    "[GCC 10.3.1 20210422 (Red Hat 10.3.1-1)] on linux\n",
    "Type \"help\", \"copyright\", \"credits\" or \"license\" for more information.\n",
    ">>> hash('\\0B')\n",
    "-2106417055349253107\n",
    ">>> hash('\\0\\0C')\n",
    "-8252262576489450206\n",
    ">>>\n",
    "$ python2.7\n",
    "Python 2.7.18 (default, May 19 2021, 00:00:00) \n",
    "[GCC 10.3.1 20210422 (Red Hat 10.3.1-1)] on linux2\n",
    "Type \"help\", \"copyright\", \"credits\" or \"license\" for more information.\n",
    ">>> hash('\\0B')\n",
    "64\n",
    ">>> hash('\\0\\0C')\n",
    "64\n",
    "```\n",
    "\n",
    "Python object [`__hash__`](https://docs.python.org/3/reference/datamodel.html#object.__hash__) method is called by built-in function [`hash()`](https://docs.python.org/3/library/functions.html#hash)\n",
    "\n",
    "\n",
    "Another collision example using division method"
   ]
  },
  {
   "cell_type": "code",
   "execution_count": 45,
   "id": "4793f4cb-7821-4a65-87d2-f01d36435e74",
   "metadata": {},
   "outputs": [
    {
     "name": "stdout",
     "output_type": "stream",
     "text": [
      "2\n",
      "2\n",
      "2\n",
      "2\n"
     ]
    }
   ],
   "source": [
    "m = 10\n",
    "\n",
    "\n",
    "def division_method(value):\n",
    "    if isinstance(value, str):\n",
    "        k = sum([ord(c) for c in value])\n",
    "    elif isinstance(value, int) or isinstance(value, float):\n",
    "        k = value\n",
    "    elif isinstance(value, object):\n",
    "        k = id(object)\n",
    "    else:\n",
    "        raise TypeError(\"unhashable type: {type}\".format(type(value)))\n",
    "    \n",
    "    return k % m\n",
    "\n",
    "\n",
    "print(division_method(2))\n",
    "print(division_method(\"asdss\"))\n",
    "print(division_method(\"asd\"))\n",
    "print(division_method(12))\n"
   ]
  },
  {
   "cell_type": "markdown",
   "id": "f02cdff4-b2e6-42d7-8534-c0e9d567fc89",
   "metadata": {},
   "source": [
    "## How do we deal with collisions?\n",
    "\n",
    "### Chaining\n",
    "\n",
    "![chaining](https://upload.wikimedia.org/wikipedia/commons/thumb/5/5a/Hash_table_5_0_1_1_1_1_0_LL.svg/2560px-Hash_table_5_0_1_1_1_1_0_LL.svg.png)\n",
    "\n",
    "TBC\n",
    "\n",
    "### Open addressing\n",
    "\n",
    "TBC\n"
   ]
  },
  {
   "cell_type": "markdown",
   "id": "4fcc1978-70d4-4d2b-98de-778ae162b8a4",
   "metadata": {},
   "source": [
    "## Resources\n",
    "\n",
    "- [Hashing with Chaining (video)](https://youtu.be/0M_kIqhwbFo)\n",
    "- [Table Doubling, Karp-Rabin (video)](https://youtu.be/BRO7mVIFt08)\n",
    "- [Open Addressing, Cryptographic Hashing (video)](https://youtu.be/rvdJDijO2Ro)\n",
    "- [Lecture 8: Hashing I](https://ocw.mit.edu/courses/electrical-engineering-and-computer-science/6-006-introduction-to-algorithms-fall-2011/lecture-videos/MIT6_006F11_lec08.pdf)\n",
    "- [Introduction to Algorithms MIT course 6.006](https://ocw.mit.edu/courses/electrical-engineering-and-computer-science/6-006-introduction-to-algorithms-fall-2011/index.htm)\n",
    "- [Hash Table (wiki)](https://en.wikipedia.org/wiki/Hash_table)"
   ]
  }
 ],
 "metadata": {
  "kernelspec": {
   "display_name": "Python 3",
   "language": "python",
   "name": "python3"
  },
  "language_info": {
   "codemirror_mode": {
    "name": "ipython",
    "version": 3
   },
   "file_extension": ".py",
   "mimetype": "text/x-python",
   "name": "python",
   "nbconvert_exporter": "python",
   "pygments_lexer": "ipython3",
   "version": "3.9.5"
  }
 },
 "nbformat": 4,
 "nbformat_minor": 5
}
